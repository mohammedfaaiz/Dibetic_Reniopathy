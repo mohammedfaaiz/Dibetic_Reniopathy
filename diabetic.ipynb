{
  "cells": [
    {
      "cell_type": "code",
      "execution_count": 3,
      "metadata": {
        "id": "yKeCurNbi2dL"
      },
      "outputs": [],
      "source": [
        "import numpy as np\n",
        "import random\n",
        "import matplotlib.pyplot as plt\n",
        "from tensorflow.keras.models import Sequential\n",
        "from tensorflow.keras.layers import Dense, Conv2D, Flatten, MaxPooling2D\n",
        "from tensorflow.keras.utils import to_categorical\n",
        "from tensorflow.keras.preprocessing.image import ImageDataGenerator"
      ]
    },
    {
      "cell_type": "code",
      "execution_count": 4,
      "metadata": {
        "id": "RjFH4nLIjBh3"
      },
      "outputs": [],
      "source": [
        "import os\n",
        "from zipfile import ZipFile\n",
        "from sklearn.model_selection import train_test_split\n",
        "\n",
        "\n",
        "zip_file_path = '/content/diabetic-retinopathy-dataset.zip'"
      ]
    },
    {
      "cell_type": "code",
      "execution_count": 5,
      "metadata": {
        "id": "NWsBCZaRjwnk"
      },
      "outputs": [],
      "source": [
        "extraction_path = '/content/dataset'"
      ]
    },
    {
      "cell_type": "code",
      "execution_count": 7,
      "metadata": {
        "id": "XYd12Uqsj0P5"
      },
      "outputs": [],
      "source": [
        " with ZipFile(zip_file_path, 'r') as zip_ref:\n",
        "     zip_ref.extractall(extraction_path)\n",
        "\n",
        "dataset_path = extraction_path\n",
        "train_path = '/content/train'\n",
        "val_path = '/content/val'\n"
      ]
    },
    {
      "cell_type": "code",
      "execution_count": 10,
      "metadata": {
        "colab": {
          "base_uri": "https://localhost:8080/"
        },
        "id": "Dk_Am1mvkGNA",
        "outputId": "f5012f8d-790d-4fa9-af32-6ac4a265345c"
      },
      "outputs": [
        {
          "name": "stdout",
          "output_type": "stream",
          "text": [
            "['.config', 'diabetic-retinopathy-dataset.zip', 'sample_data']\n"
          ]
        }
      ],
      "source": [
        "contents = os.listdir('/content')\n",
        "print(contents)\n"
      ]
    },
    {
      "cell_type": "code",
      "execution_count": null,
      "metadata": {
        "id": "LR8NCkzclBv6"
      },
      "outputs": [],
      "source": [
        "for cls in os.listdir(dataset_path):\n",
        "    os.makedirs(os.path.join(train_path, cls), exist_ok=True)\n",
        "    os.makedirs(os.path.join(val_path, cls), exist_ok=True)"
      ]
    },
    {
      "cell_type": "code",
      "execution_count": 17,
      "metadata": {
        "id": "OsgqSFC0mbrC"
      },
      "outputs": [],
      "source": [
        "for cls in os.listdir(dataset_path):\n",
        "    cls_path = os.path.join(dataset_path, cls)\n",
        "    images = os.listdir(cls_path)\n",
        "    train_images, val_images = train_test_split(images, test_size=0.2, random_state=42)\n"
      ]
    },
    {
      "cell_type": "code",
      "execution_count": null,
      "metadata": {
        "id": "9p1Q8dBxmiVK"
      },
      "outputs": [],
      "source": [
        "for img in train_images:\n",
        "        src = os.path.join(cls_path, img)\n",
        "        dest = os.path.join(train_path, cls, img)\n",
        "        os.rename(src, dest)"
      ]
    },
    {
      "cell_type": "code",
      "execution_count": null,
      "metadata": {
        "id": "OHlGptOBmqW3"
      },
      "outputs": [],
      "source": [
        "for img in val_images:\n",
        "        src = os.path.join(cls_path, img)\n",
        "        dest = os.path.join(val_path, cls, img)\n",
        "        os.rename(src, dest)"
      ]
    },
    {
      "cell_type": "code",
      "execution_count": null,
      "metadata": {
        "id": "cTLXFbRumu8S"
      },
      "outputs": [],
      "source": [
        "history = model.fit(\n",
        "    train_generator,\n",
        "    steps_per_epoch=train_generator.samples\n",
        "    epochs=15,\n",
        "    validation_data=validation_generator,\n",
        "    validation_steps=validation_generator.samples\n",
        ")\n",
        "\n",
        "loss, accuracy = model.evaluate(validation_generator)\n",
        "print(f'Validation Loss: {loss}, Validation Accuracy: {accuracy}')"
      ]
    }
  ],
  "metadata": {
    "colab": {
      "provenance": []
    },
    "kernelspec": {
      "display_name": "Python 3",
      "name": "python3"
    },
    "language_info": {
      "name": "python"
    }
  },
  "nbformat": 4,
  "nbformat_minor": 0
}
